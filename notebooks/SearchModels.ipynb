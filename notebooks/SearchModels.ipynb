{
  "nbformat": 4,
  "nbformat_minor": 0,
  "metadata": {
    "colab": {
      "provenance": [],
      "collapsed_sections": [
        "aDvHcL91-dPh"
      ],
      "gpuType": "T4"
    },
    "kernelspec": {
      "name": "python3",
      "display_name": "Python 3"
    },
    "language_info": {
      "name": "python"
    }
  },
  "cells": [
    {
      "cell_type": "markdown",
      "source": [
        "#Загрузка данных + импорт библиотек"
      ],
      "metadata": {
        "id": "-Bn4heDl-P6w"
      }
    },
    {
      "cell_type": "code",
      "execution_count": null,
      "metadata": {
        "colab": {
          "base_uri": "https://localhost:8080/"
        },
        "id": "0TCHNSHEOWUr",
        "outputId": "36183511-cc9a-460d-d895-d3682dcc6c82"
      },
      "outputs": [
        {
          "output_type": "stream",
          "name": "stdout",
          "text": [
            "Mounted at /content/drive\n"
          ]
        }
      ],
      "source": [
        "from google.colab import drive\n",
        "\n",
        "\n",
        "drive.flush_and_unmount()\n",
        "drive.mount('/content/drive', force_remount=True)"
      ]
    },
    {
      "cell_type": "code",
      "source": [
        "import pandas as pd\n",
        "\n",
        "\n",
        "df = pd.read_csv('drive/My Drive/morze_data/trainDataSet_morze_about_all_intents.csv', sep=',')"
      ],
      "metadata": {
        "id": "YSI4bOpTPDIH"
      },
      "execution_count": null,
      "outputs": []
    },
    {
      "cell_type": "code",
      "source": [
        "import torch\n",
        "device = 'cuda' if torch.cuda.is_available() else 'cpu'"
      ],
      "metadata": {
        "id": "VXHiUXcId8bL"
      },
      "execution_count": null,
      "outputs": []
    },
    {
      "cell_type": "code",
      "source": [
        "df.head()"
      ],
      "metadata": {
        "colab": {
          "base_uri": "https://localhost:8080/",
          "height": 206
        },
        "id": "kvxO1wAOPDom",
        "outputId": "e8e2d37f-d24d-4b32-8b9b-4cb2b23bdd2b"
      },
      "execution_count": null,
      "outputs": [
        {
          "output_type": "execute_result",
          "data": {
            "text/plain": [
              "                     text label\n",
              "0    ты мне очень помогла  good\n",
              "1               ты лучшая  good\n",
              "2  настоящий профессионал  good\n",
              "3     прекрасно сработано  good\n",
              "4        ты хороша в этом  good"
            ],
            "text/html": [
              "\n",
              "\n",
              "  <div id=\"df-3ac5c003-1af1-4d63-abf5-b03ff2a9eef0\">\n",
              "    <div class=\"colab-df-container\">\n",
              "      <div>\n",
              "<style scoped>\n",
              "    .dataframe tbody tr th:only-of-type {\n",
              "        vertical-align: middle;\n",
              "    }\n",
              "\n",
              "    .dataframe tbody tr th {\n",
              "        vertical-align: top;\n",
              "    }\n",
              "\n",
              "    .dataframe thead th {\n",
              "        text-align: right;\n",
              "    }\n",
              "</style>\n",
              "<table border=\"1\" class=\"dataframe\">\n",
              "  <thead>\n",
              "    <tr style=\"text-align: right;\">\n",
              "      <th></th>\n",
              "      <th>text</th>\n",
              "      <th>label</th>\n",
              "    </tr>\n",
              "  </thead>\n",
              "  <tbody>\n",
              "    <tr>\n",
              "      <th>0</th>\n",
              "      <td>ты мне очень помогла</td>\n",
              "      <td>good</td>\n",
              "    </tr>\n",
              "    <tr>\n",
              "      <th>1</th>\n",
              "      <td>ты лучшая</td>\n",
              "      <td>good</td>\n",
              "    </tr>\n",
              "    <tr>\n",
              "      <th>2</th>\n",
              "      <td>настоящий профессионал</td>\n",
              "      <td>good</td>\n",
              "    </tr>\n",
              "    <tr>\n",
              "      <th>3</th>\n",
              "      <td>прекрасно сработано</td>\n",
              "      <td>good</td>\n",
              "    </tr>\n",
              "    <tr>\n",
              "      <th>4</th>\n",
              "      <td>ты хороша в этом</td>\n",
              "      <td>good</td>\n",
              "    </tr>\n",
              "  </tbody>\n",
              "</table>\n",
              "</div>\n",
              "      <button class=\"colab-df-convert\" onclick=\"convertToInteractive('df-3ac5c003-1af1-4d63-abf5-b03ff2a9eef0')\"\n",
              "              title=\"Convert this dataframe to an interactive table.\"\n",
              "              style=\"display:none;\">\n",
              "\n",
              "  <svg xmlns=\"http://www.w3.org/2000/svg\" height=\"24px\"viewBox=\"0 0 24 24\"\n",
              "       width=\"24px\">\n",
              "    <path d=\"M0 0h24v24H0V0z\" fill=\"none\"/>\n",
              "    <path d=\"M18.56 5.44l.94 2.06.94-2.06 2.06-.94-2.06-.94-.94-2.06-.94 2.06-2.06.94zm-11 1L8.5 8.5l.94-2.06 2.06-.94-2.06-.94L8.5 2.5l-.94 2.06-2.06.94zm10 10l.94 2.06.94-2.06 2.06-.94-2.06-.94-.94-2.06-.94 2.06-2.06.94z\"/><path d=\"M17.41 7.96l-1.37-1.37c-.4-.4-.92-.59-1.43-.59-.52 0-1.04.2-1.43.59L10.3 9.45l-7.72 7.72c-.78.78-.78 2.05 0 2.83L4 21.41c.39.39.9.59 1.41.59.51 0 1.02-.2 1.41-.59l7.78-7.78 2.81-2.81c.8-.78.8-2.07 0-2.86zM5.41 20L4 18.59l7.72-7.72 1.47 1.35L5.41 20z\"/>\n",
              "  </svg>\n",
              "      </button>\n",
              "\n",
              "\n",
              "\n",
              "    <div id=\"df-68359186-f4fd-4ff1-8a95-4d376aff4e37\">\n",
              "      <button class=\"colab-df-quickchart\" onclick=\"quickchart('df-68359186-f4fd-4ff1-8a95-4d376aff4e37')\"\n",
              "              title=\"Suggest charts.\"\n",
              "              style=\"display:none;\">\n",
              "\n",
              "<svg xmlns=\"http://www.w3.org/2000/svg\" height=\"24px\"viewBox=\"0 0 24 24\"\n",
              "     width=\"24px\">\n",
              "    <g>\n",
              "        <path d=\"M19 3H5c-1.1 0-2 .9-2 2v14c0 1.1.9 2 2 2h14c1.1 0 2-.9 2-2V5c0-1.1-.9-2-2-2zM9 17H7v-7h2v7zm4 0h-2V7h2v10zm4 0h-2v-4h2v4z\"/>\n",
              "    </g>\n",
              "</svg>\n",
              "      </button>\n",
              "    </div>\n",
              "\n",
              "<style>\n",
              "  .colab-df-quickchart {\n",
              "    background-color: #E8F0FE;\n",
              "    border: none;\n",
              "    border-radius: 50%;\n",
              "    cursor: pointer;\n",
              "    display: none;\n",
              "    fill: #1967D2;\n",
              "    height: 32px;\n",
              "    padding: 0 0 0 0;\n",
              "    width: 32px;\n",
              "  }\n",
              "\n",
              "  .colab-df-quickchart:hover {\n",
              "    background-color: #E2EBFA;\n",
              "    box-shadow: 0px 1px 2px rgba(60, 64, 67, 0.3), 0px 1px 3px 1px rgba(60, 64, 67, 0.15);\n",
              "    fill: #174EA6;\n",
              "  }\n",
              "\n",
              "  [theme=dark] .colab-df-quickchart {\n",
              "    background-color: #3B4455;\n",
              "    fill: #D2E3FC;\n",
              "  }\n",
              "\n",
              "  [theme=dark] .colab-df-quickchart:hover {\n",
              "    background-color: #434B5C;\n",
              "    box-shadow: 0px 1px 3px 1px rgba(0, 0, 0, 0.15);\n",
              "    filter: drop-shadow(0px 1px 2px rgba(0, 0, 0, 0.3));\n",
              "    fill: #FFFFFF;\n",
              "  }\n",
              "</style>\n",
              "\n",
              "    <script>\n",
              "      async function quickchart(key) {\n",
              "        const containerElement = document.querySelector('#' + key);\n",
              "        const charts = await google.colab.kernel.invokeFunction(\n",
              "            'suggestCharts', [key], {});\n",
              "      }\n",
              "    </script>\n",
              "\n",
              "      <script>\n",
              "\n",
              "function displayQuickchartButton(domScope) {\n",
              "  let quickchartButtonEl =\n",
              "    domScope.querySelector('#df-68359186-f4fd-4ff1-8a95-4d376aff4e37 button.colab-df-quickchart');\n",
              "  quickchartButtonEl.style.display =\n",
              "    google.colab.kernel.accessAllowed ? 'block' : 'none';\n",
              "}\n",
              "\n",
              "        displayQuickchartButton(document);\n",
              "      </script>\n",
              "      <style>\n",
              "    .colab-df-container {\n",
              "      display:flex;\n",
              "      flex-wrap:wrap;\n",
              "      gap: 12px;\n",
              "    }\n",
              "\n",
              "    .colab-df-convert {\n",
              "      background-color: #E8F0FE;\n",
              "      border: none;\n",
              "      border-radius: 50%;\n",
              "      cursor: pointer;\n",
              "      display: none;\n",
              "      fill: #1967D2;\n",
              "      height: 32px;\n",
              "      padding: 0 0 0 0;\n",
              "      width: 32px;\n",
              "    }\n",
              "\n",
              "    .colab-df-convert:hover {\n",
              "      background-color: #E2EBFA;\n",
              "      box-shadow: 0px 1px 2px rgba(60, 64, 67, 0.3), 0px 1px 3px 1px rgba(60, 64, 67, 0.15);\n",
              "      fill: #174EA6;\n",
              "    }\n",
              "\n",
              "    [theme=dark] .colab-df-convert {\n",
              "      background-color: #3B4455;\n",
              "      fill: #D2E3FC;\n",
              "    }\n",
              "\n",
              "    [theme=dark] .colab-df-convert:hover {\n",
              "      background-color: #434B5C;\n",
              "      box-shadow: 0px 1px 3px 1px rgba(0, 0, 0, 0.15);\n",
              "      filter: drop-shadow(0px 1px 2px rgba(0, 0, 0, 0.3));\n",
              "      fill: #FFFFFF;\n",
              "    }\n",
              "  </style>\n",
              "\n",
              "      <script>\n",
              "        const buttonEl =\n",
              "          document.querySelector('#df-3ac5c003-1af1-4d63-abf5-b03ff2a9eef0 button.colab-df-convert');\n",
              "        buttonEl.style.display =\n",
              "          google.colab.kernel.accessAllowed ? 'block' : 'none';\n",
              "\n",
              "        async function convertToInteractive(key) {\n",
              "          const element = document.querySelector('#df-3ac5c003-1af1-4d63-abf5-b03ff2a9eef0');\n",
              "          const dataTable =\n",
              "            await google.colab.kernel.invokeFunction('convertToInteractive',\n",
              "                                                     [key], {});\n",
              "          if (!dataTable) return;\n",
              "\n",
              "          const docLinkHtml = 'Like what you see? Visit the ' +\n",
              "            '<a target=\"_blank\" href=https://colab.research.google.com/notebooks/data_table.ipynb>data table notebook</a>'\n",
              "            + ' to learn more about interactive tables.';\n",
              "          element.innerHTML = '';\n",
              "          dataTable['output_type'] = 'display_data';\n",
              "          await google.colab.output.renderOutput(dataTable, element);\n",
              "          const docLink = document.createElement('div');\n",
              "          docLink.innerHTML = docLinkHtml;\n",
              "          element.appendChild(docLink);\n",
              "        }\n",
              "      </script>\n",
              "    </div>\n",
              "  </div>\n"
            ]
          },
          "metadata": {},
          "execution_count": 4
        }
      ]
    },
    {
      "cell_type": "code",
      "source": [
        "train_list = df.text.to_list()\n",
        "label_list = df.label.to_list()"
      ],
      "metadata": {
        "id": "rD22P_lYQ2Iw"
      },
      "execution_count": null,
      "outputs": []
    },
    {
      "cell_type": "code",
      "source": [
        "!pip install torch numpy pandas onnxruntime-gpu onnx transformers optimum evaluate datasets sentence-transformers --quiet"
      ],
      "metadata": {
        "id": "An7Ln5r-PDwM"
      },
      "execution_count": null,
      "outputs": []
    },
    {
      "cell_type": "code",
      "source": [
        "import sklearn\n",
        "import numpy as np\n",
        "from scipy.spatial.distance import cdist\n",
        "# from sentence_transformers import SentenceTransformer\n",
        "from optimum.onnxruntime import ORTModelForSequenceClassification, ORTModelForFeatureExtraction\n",
        "# from drive.MyDrive.morze_data.morze_about_answers import answers\n",
        "import torch\n",
        "from transformers import AutoTokenizer, AutoModelForSequenceClassification, AutoModel"
      ],
      "metadata": {
        "id": "_ghUVvEh9Yos"
      },
      "execution_count": null,
      "outputs": []
    },
    {
      "cell_type": "markdown",
      "source": [
        "#MyClass"
      ],
      "metadata": {
        "id": "w6I3-Y8xfSRN"
      }
    },
    {
      "cell_type": "code",
      "source": [
        "class CustomSentenceTransformer():\n",
        "    def __init__(self, model, tokenizer):\n",
        "        super().__init__()\n",
        "        self.model = model\n",
        "        self.tokenizer = tokenizer\n",
        "\n",
        "    def encode(self, text):\n",
        "        t = self.tokenizer(text, padding=True, truncation=True, return_tensors='pt')\n",
        "        with torch.no_grad():\n",
        "            model_output = self.model(**{k: v.to(self.model.device) for k, v in t.items()})\n",
        "        embeddings = model_output.last_hidden_state[:, 0, :]\n",
        "        embeddings = torch.nn.functional.normalize(embeddings)\n",
        "        self.embeddings = embeddings.cpu().numpy()\n",
        "        return self.embeddings"
      ],
      "metadata": {
        "id": "mzDSkATMHAcA"
      },
      "execution_count": null,
      "outputs": []
    },
    {
      "cell_type": "code",
      "source": [
        "#@title TEST Custom ST\n",
        "# from sentence_transformers import SentenceTransformer\n",
        "\n",
        "tokenizer = AutoTokenizer.from_pretrained(\"yuraz28/bert-multilingual-passage-reranking-msmarco-onnx-fe-optimized-fp16\")\n",
        "model = ORTModelForFeatureExtraction.from_pretrained(\"yuraz28/bert-multilingual-passage-reranking-msmarco-onnx-fe-optimized-fp16\", use_io_binding=True ).to(device)\n",
        "\n",
        "# st = CustomSentenceTransformer(model, tokenizer)\n",
        "# print(st.encode([\"привет, как дела?\"]).shape)\n",
        "\n",
        "# print(SentenceTransformer(\"bert-base-uncased\").encode([\"привет, как дела\"]).shape)"
      ],
      "metadata": {
        "colab": {
          "base_uri": "https://localhost:8080/"
        },
        "id": "WWR89ysER1su",
        "outputId": "6d1e41de-5958-4bf0-fb96-ab1b1161712f"
      },
      "execution_count": null,
      "outputs": [
        {
          "output_type": "stream",
          "name": "stderr",
          "text": [
            "The ONNX file optimized_fp16.onnx is not a regular name used in optimum.onnxruntime, the ORTModel might not behave as expected.\n"
          ]
        }
      ]
    },
    {
      "cell_type": "code",
      "source": [
        "types = ['sentence-transformers', 'nli']\n",
        "\n",
        "class Model_searh():\n",
        "    def __init__(self, path_models: str, typee: str = 'sentence-transformers') -> None:\n",
        "        self.typee = typee\n",
        "        if typee == 'sentence-transformers':\n",
        "            self.model = SentenceTransformer(path_models)\n",
        "        elif typee == 'nli':\n",
        "            self.tokenizer = AutoTokenizer.from_pretrained(path_models)\n",
        "            self.model = AutoModelForSequenceClassification.from_pretrained(path_models)\n",
        "            if torch.cuda.is_available():\n",
        "                self.model.cuda()\n",
        "\n",
        "    def fit(self, train_list: list) -> None:\n",
        "        if self.typee == 'sentence-transformers':\n",
        "            self.train_list = train_list\n",
        "            self.embeddings = self.model.encode(train_list)\n",
        "\n",
        "    def get_best(self, query: str, label_list: np.array, *, max_value: int = 10, K: int = 3, label: str = 'entailment', normalize: bool = True) -> dict:\n",
        "\n",
        "        if self.typee == 'sentence-transformers':\n",
        "            self.query_embedding = self.model.encode([query])\n",
        "            self.distances = np.array(cdist(self.query_embedding, self.embeddings, \"cosine\")[0])\n",
        "            self.ind = np.argsort(self.distances, axis=0)\n",
        "            self.distances = self.distances[self.ind]\n",
        "            self.label_list = np.array(label_list)[self.ind]\n",
        "            self.mask = np.isin(self.distances, self.distances[self.distances < max(max_value, min(self.distances) + 0.01)])\n",
        "\n",
        "            return {\n",
        "                'input_text': query,\n",
        "                'output_texts': self.label_list[self.mask][:K],\n",
        "                'output_distances': self.distances[self.mask][:K]\n",
        "            }\n",
        "            # return {\n",
        "            #     'input_text': query,\n",
        "            #     'output_texts': [label_list[self.ind[i]] for i in range(K)],\n",
        "            #     'output_distances': [self.distances[self.ind[i]] for i in range(K)]\n",
        "            # }\n",
        "\n",
        "        elif self.typee == 'nli':\n",
        "            self.tokens = self.tokenizer([query] * len(label_list), label_list, truncation=True, return_tensors='pt',\n",
        "                               padding=True)\n",
        "            with torch.inference_mode():\n",
        "                self.result = torch.softmax(self.model(**self.tokens.to(self.model.device)).logits, -1)\n",
        "            self.proba = self.result[:, self.model.config.label2id[label]].cpu().numpy()\n",
        "\n",
        "            if normalize:\n",
        "                self.proba /= sum(self.proba)\n",
        "\n",
        "            self.ind = np.argsort(self.proba, axis=0)[::-1]\n",
        "            self.label_list = np.array(label_list)[self.ind]\n",
        "            self.proba = np.array(self.proba)[self.ind]\n",
        "            self.mask = np.isin(self.proba, self.proba[self.proba < max(max_value, min(self.proba) + 0.01)])\n",
        "\n",
        "            return {\n",
        "                  'input_text': query,\n",
        "                  'output_texts': self.label_list,\n",
        "                  'output_distances': self.proba\n",
        "            }\n"
      ],
      "metadata": {
        "id": "QhjNKgpwfU1T"
      },
      "execution_count": null,
      "outputs": []
    },
    {
      "cell_type": "markdown",
      "source": [
        "#Models"
      ],
      "metadata": {
        "id": "xt5xReb_pUS4"
      }
    },
    {
      "cell_type": "markdown",
      "source": [
        "##Oplimize model"
      ],
      "metadata": {
        "id": "KcnXnGsWiJNc"
      }
    },
    {
      "cell_type": "code",
      "source": [
        "st = CustomSentenceTransformer(model, tokenizer)"
      ],
      "metadata": {
        "id": "KwOgWNFEZ3h1"
      },
      "execution_count": null,
      "outputs": []
    },
    {
      "cell_type": "code",
      "source": [
        "embeddings = st.encode(train_list)"
      ],
      "metadata": {
        "id": "c1xuVEzPvJep"
      },
      "execution_count": null,
      "outputs": []
    },
    {
      "cell_type": "code",
      "source": [
        "def get_best(query: str, label_list: np.array, model, max_value: int = 10, K: int = 3):\n",
        "        query_embedding = model.encode([query])\n",
        "        distances = np.array(cdist(query_embedding, embeddings, \"cosine\")[0])\n",
        "        ind = np.argsort(distances, axis=0)\n",
        "        distances = distances[ind]\n",
        "        label_list = np.array(label_list)[ind]\n",
        "        mask = np.isin(distances, distances[distances < max(max_value, min(distances) + 0.01)])\n",
        "\n",
        "        return {\n",
        "            'input_text': query,\n",
        "            'output_texts': label_list[mask][:K],\n",
        "            'output_distances': distances[mask][:K]\n",
        "        }"
      ],
      "metadata": {
        "id": "6xisEsEZmtpv"
      },
      "execution_count": null,
      "outputs": []
    },
    {
      "cell_type": "code",
      "source": [
        "%%time\n",
        "get_best('Как дела?', label_list, st)"
      ],
      "metadata": {
        "colab": {
          "base_uri": "https://localhost:8080/"
        },
        "id": "kq19vp5oiYhH",
        "outputId": "a348bd30-f71f-410f-ba91-1445fa1d080b"
      },
      "execution_count": null,
      "outputs": [
        {
          "output_type": "stream",
          "name": "stdout",
          "text": [
            "CPU times: user 653 ms, sys: 5.19 ms, total: 658 ms\n",
            "Wall time: 1.41 s\n"
          ]
        },
        {
          "output_type": "execute_result",
          "data": {
            "text/plain": [
              "{'input_text': 'Как дела?',\n",
              " 'output_texts': array(['how_are_you', 'how_are_you', 'how_are_you'], dtype='<U26'),\n",
              " 'output_distances': array([0.01165006, 0.01165006, 0.01853184])}"
            ]
          },
          "metadata": {},
          "execution_count": 29
        }
      ]
    },
    {
      "cell_type": "markdown",
      "source": [
        "##Модель bert-multilingual-passage-reranking-msmarco"
      ],
      "metadata": {
        "id": "gFw5TeodCuOm"
      }
    },
    {
      "cell_type": "code",
      "source": [
        "model_msmarce = Model_searh('amberoad/bert-multilingual-passage-reranking-msmarco')"
      ],
      "metadata": {
        "id": "aZzD4XRaCtU0"
      },
      "execution_count": null,
      "outputs": []
    },
    {
      "cell_type": "code",
      "source": [
        "model_msmarce.fit(train_list)"
      ],
      "metadata": {
        "id": "LELeWnm6Dta7"
      },
      "execution_count": null,
      "outputs": []
    },
    {
      "cell_type": "code",
      "source": [
        "%%time\n",
        "model_msmarce.get_best('Привет', label_list)"
      ],
      "metadata": {
        "colab": {
          "base_uri": "https://localhost:8080/"
        },
        "id": "HLOx9sKkD8_2",
        "outputId": "0e1cb42b-b64c-4bf6-ee5d-b676b115d935"
      },
      "execution_count": null,
      "outputs": [
        {
          "output_type": "stream",
          "name": "stdout",
          "text": [
            "CPU times: user 97.2 ms, sys: 0 ns, total: 97.2 ms\n",
            "Wall time: 107 ms\n"
          ]
        },
        {
          "output_type": "execute_result",
          "data": {
            "text/plain": [
              "{'input_text': 'Привет',\n",
              " 'output_texts': array(['hello', 'hello', 'hello'], dtype='<U26'),\n",
              " 'output_distances': array([3.39839268e-13, 3.39839268e-13, 6.63207849e-02])}"
            ]
          },
          "metadata": {},
          "execution_count": 12
        }
      ]
    },
    {
      "cell_type": "markdown",
      "source": [
        "##Модель MSTSb_stsb-xlm-r-multilingual"
      ],
      "metadata": {
        "id": "ez4DJ8ddB8Ba"
      }
    },
    {
      "cell_type": "code",
      "source": [
        "model_aida = Model_searh('AIDA-UPM/MSTSb_stsb-xlm-r-multilingual')"
      ],
      "metadata": {
        "id": "mqOsQReQBsn-"
      },
      "execution_count": null,
      "outputs": []
    },
    {
      "cell_type": "code",
      "source": [
        "model_aida.fit(train_list)"
      ],
      "metadata": {
        "id": "ZItnGFUMB3Or"
      },
      "execution_count": null,
      "outputs": []
    },
    {
      "cell_type": "code",
      "source": [
        "model_aida.get_best('Расскажи о себе и что ты умеешь?', label_list)"
      ],
      "metadata": {
        "colab": {
          "base_uri": "https://localhost:8080/"
        },
        "id": "dW6PgMT3CEqk",
        "outputId": "bfec35da-3446-4ecb-de30-d15d9642b9b6"
      },
      "execution_count": null,
      "outputs": [
        {
          "output_type": "execute_result",
          "data": {
            "text/plain": [
              "{'input_text': 'Расскажи о себе и что ты умеешь?',\n",
              " 'output_texts': array(['skills', 'skills', 'acquaintance'], dtype='<U26'),\n",
              " 'output_distances': array([0.23914132, 0.2692477 , 0.27383558])}"
            ]
          },
          "metadata": {},
          "execution_count": 150
        }
      ]
    },
    {
      "cell_type": "markdown",
      "source": [
        "##Модель quora-distilbert-multilingual"
      ],
      "metadata": {
        "id": "aDvHcL91-dPh"
      }
    },
    {
      "cell_type": "code",
      "source": [
        "model_quora_multilingual = Model_searh('sentence-transformers/quora-distilbert-multilingual')"
      ],
      "metadata": {
        "id": "gHt2QEAL9A9f"
      },
      "execution_count": null,
      "outputs": []
    },
    {
      "cell_type": "code",
      "source": [
        "%%time\n",
        "model_quora_multilingual.fit(train_list)"
      ],
      "metadata": {
        "colab": {
          "base_uri": "https://localhost:8080/"
        },
        "id": "6ocq3qIA9I0g",
        "outputId": "84f84d7e-6d39-49eb-a5bd-6c60f479ec7c"
      },
      "execution_count": null,
      "outputs": [
        {
          "output_type": "stream",
          "name": "stdout",
          "text": [
            "CPU times: user 15.8 s, sys: 41.3 ms, total: 15.8 s\n",
            "Wall time: 16.1 s\n"
          ]
        }
      ]
    },
    {
      "cell_type": "code",
      "source": [
        "model_quora_multilingual.get_best('Расскажи о себе и что ты умеешь?', label_list)"
      ],
      "metadata": {
        "colab": {
          "base_uri": "https://localhost:8080/"
        },
        "id": "009brkiB9OhH",
        "outputId": "abe216b5-8fa3-46d0-8351-728dfd4ed409"
      },
      "execution_count": null,
      "outputs": [
        {
          "output_type": "execute_result",
          "data": {
            "text/plain": [
              "{'input_text': 'Расскажи о себе и что ты умеешь?',\n",
              " 'output_texts': array(['acquaintance', 'acquaintance', 'acquaintance'], dtype='<U26'),\n",
              " 'output_distances': array([0.01825803, 0.02029677, 0.02142612])}"
            ]
          },
          "metadata": {},
          "execution_count": 153
        }
      ]
    },
    {
      "cell_type": "markdown",
      "source": [
        "##Модель cointegrated/rubert-tiny2"
      ],
      "metadata": {
        "id": "66piz1DUEnWp"
      }
    },
    {
      "cell_type": "code",
      "source": [
        "model_tine = Model_searh('cointegrated/rubert-tiny2')"
      ],
      "metadata": {
        "colab": {
          "base_uri": "https://localhost:8080/"
        },
        "id": "-aiPGezuEKek",
        "outputId": "60f81249-1369-4b07-c3bc-4c9a9edb5eb1"
      },
      "execution_count": null,
      "outputs": [
        {
          "output_type": "stream",
          "name": "stderr",
          "text": [
            "WARNING:sentence_transformers.SentenceTransformer:No sentence-transformers model found with name /root/.cache/torch/sentence_transformers/cointegrated_rubert-tiny2. Creating a new one with MEAN pooling.\n"
          ]
        }
      ]
    },
    {
      "cell_type": "code",
      "source": [
        "model_tine.fit(train_list)"
      ],
      "metadata": {
        "id": "vECF01uPEbZm"
      },
      "execution_count": null,
      "outputs": []
    },
    {
      "cell_type": "code",
      "source": [
        "model_tine.get_best('Привет', label_list)"
      ],
      "metadata": {
        "colab": {
          "base_uri": "https://localhost:8080/"
        },
        "id": "fkL9SocDEQ0P",
        "outputId": "3a4a1cf7-9e8b-43f3-9550-47c370c6bd76"
      },
      "execution_count": null,
      "outputs": [
        {
          "output_type": "execute_result",
          "data": {
            "text/plain": [
              "{'input_text': 'Привет',\n",
              " 'output_texts': array(['hello', 'hello', 'hello'], dtype='<U26'),\n",
              " 'output_distances': array([5.46229728e-14, 1.10101614e-01, 1.17256343e-01])}"
            ]
          },
          "metadata": {},
          "execution_count": 156
        }
      ]
    },
    {
      "cell_type": "markdown",
      "source": [
        "##Модель rubert-base-cased-nli-threeway"
      ],
      "metadata": {
        "id": "Uu7E8FmE52Lb"
      }
    },
    {
      "cell_type": "code",
      "source": [
        "model_nli_threeway = Model_searh('cointegrated/rubert-base-cased-nli-threeway', typee='nli')"
      ],
      "metadata": {
        "id": "bG2QD6_q_z1h"
      },
      "execution_count": null,
      "outputs": []
    },
    {
      "cell_type": "code",
      "source": [
        "dct = model_nli_threeway.get_best('Привет', train_list)"
      ],
      "metadata": {
        "id": "0c5-t881ACQN"
      },
      "execution_count": null,
      "outputs": []
    },
    {
      "cell_type": "code",
      "source": [
        "max_dct = max(dct, key=lambda x: dct[x])\n",
        "print(max_dct, dct[max_dct])"
      ],
      "metadata": {
        "colab": {
          "base_uri": "https://localhost:8080/"
        },
        "id": "wIcr5jm_2ci4",
        "outputId": "718516e4-d071-41fa-a49c-27a314d9f144"
      },
      "execution_count": null,
      "outputs": [
        {
          "output_type": "stream",
          "name": "stdout",
          "text": [
            "приветствую 0.006456625\n"
          ]
        }
      ]
    },
    {
      "cell_type": "code",
      "source": [
        "df[df.text == max_dct]"
      ],
      "metadata": {
        "colab": {
          "base_uri": "https://localhost:8080/",
          "height": 81
        },
        "id": "YufeaB954dvZ",
        "outputId": "359af24a-2d55-45b6-fd01-be2611a9e09b"
      },
      "execution_count": null,
      "outputs": [
        {
          "output_type": "execute_result",
          "data": {
            "text/plain": [
              "            text  label                                             Target\n",
              "994  приветствую  hello  [0, 0, 0, 0, 0, 0, 0, 0, 0, 0, 0, 0, 0, 0, 0, ..."
            ],
            "text/html": [
              "\n",
              "\n",
              "  <div id=\"df-3e222bb9-76e9-42b7-9214-48fb7b1a2e92\">\n",
              "    <div class=\"colab-df-container\">\n",
              "      <div>\n",
              "<style scoped>\n",
              "    .dataframe tbody tr th:only-of-type {\n",
              "        vertical-align: middle;\n",
              "    }\n",
              "\n",
              "    .dataframe tbody tr th {\n",
              "        vertical-align: top;\n",
              "    }\n",
              "\n",
              "    .dataframe thead th {\n",
              "        text-align: right;\n",
              "    }\n",
              "</style>\n",
              "<table border=\"1\" class=\"dataframe\">\n",
              "  <thead>\n",
              "    <tr style=\"text-align: right;\">\n",
              "      <th></th>\n",
              "      <th>text</th>\n",
              "      <th>label</th>\n",
              "      <th>Target</th>\n",
              "    </tr>\n",
              "  </thead>\n",
              "  <tbody>\n",
              "    <tr>\n",
              "      <th>994</th>\n",
              "      <td>приветствую</td>\n",
              "      <td>hello</td>\n",
              "      <td>[0, 0, 0, 0, 0, 0, 0, 0, 0, 0, 0, 0, 0, 0, 0, ...</td>\n",
              "    </tr>\n",
              "  </tbody>\n",
              "</table>\n",
              "</div>\n",
              "      <button class=\"colab-df-convert\" onclick=\"convertToInteractive('df-3e222bb9-76e9-42b7-9214-48fb7b1a2e92')\"\n",
              "              title=\"Convert this dataframe to an interactive table.\"\n",
              "              style=\"display:none;\">\n",
              "\n",
              "  <svg xmlns=\"http://www.w3.org/2000/svg\" height=\"24px\"viewBox=\"0 0 24 24\"\n",
              "       width=\"24px\">\n",
              "    <path d=\"M0 0h24v24H0V0z\" fill=\"none\"/>\n",
              "    <path d=\"M18.56 5.44l.94 2.06.94-2.06 2.06-.94-2.06-.94-.94-2.06-.94 2.06-2.06.94zm-11 1L8.5 8.5l.94-2.06 2.06-.94-2.06-.94L8.5 2.5l-.94 2.06-2.06.94zm10 10l.94 2.06.94-2.06 2.06-.94-2.06-.94-.94-2.06-.94 2.06-2.06.94z\"/><path d=\"M17.41 7.96l-1.37-1.37c-.4-.4-.92-.59-1.43-.59-.52 0-1.04.2-1.43.59L10.3 9.45l-7.72 7.72c-.78.78-.78 2.05 0 2.83L4 21.41c.39.39.9.59 1.41.59.51 0 1.02-.2 1.41-.59l7.78-7.78 2.81-2.81c.8-.78.8-2.07 0-2.86zM5.41 20L4 18.59l7.72-7.72 1.47 1.35L5.41 20z\"/>\n",
              "  </svg>\n",
              "      </button>\n",
              "\n",
              "\n",
              "\n",
              "    <div id=\"df-257d582e-63ac-4197-9620-aa8dc5732885\">\n",
              "      <button class=\"colab-df-quickchart\" onclick=\"quickchart('df-257d582e-63ac-4197-9620-aa8dc5732885')\"\n",
              "              title=\"Suggest charts.\"\n",
              "              style=\"display:none;\">\n",
              "\n",
              "<svg xmlns=\"http://www.w3.org/2000/svg\" height=\"24px\"viewBox=\"0 0 24 24\"\n",
              "     width=\"24px\">\n",
              "    <g>\n",
              "        <path d=\"M19 3H5c-1.1 0-2 .9-2 2v14c0 1.1.9 2 2 2h14c1.1 0 2-.9 2-2V5c0-1.1-.9-2-2-2zM9 17H7v-7h2v7zm4 0h-2V7h2v10zm4 0h-2v-4h2v4z\"/>\n",
              "    </g>\n",
              "</svg>\n",
              "      </button>\n",
              "    </div>\n",
              "\n",
              "<style>\n",
              "  .colab-df-quickchart {\n",
              "    background-color: #E8F0FE;\n",
              "    border: none;\n",
              "    border-radius: 50%;\n",
              "    cursor: pointer;\n",
              "    display: none;\n",
              "    fill: #1967D2;\n",
              "    height: 32px;\n",
              "    padding: 0 0 0 0;\n",
              "    width: 32px;\n",
              "  }\n",
              "\n",
              "  .colab-df-quickchart:hover {\n",
              "    background-color: #E2EBFA;\n",
              "    box-shadow: 0px 1px 2px rgba(60, 64, 67, 0.3), 0px 1px 3px 1px rgba(60, 64, 67, 0.15);\n",
              "    fill: #174EA6;\n",
              "  }\n",
              "\n",
              "  [theme=dark] .colab-df-quickchart {\n",
              "    background-color: #3B4455;\n",
              "    fill: #D2E3FC;\n",
              "  }\n",
              "\n",
              "  [theme=dark] .colab-df-quickchart:hover {\n",
              "    background-color: #434B5C;\n",
              "    box-shadow: 0px 1px 3px 1px rgba(0, 0, 0, 0.15);\n",
              "    filter: drop-shadow(0px 1px 2px rgba(0, 0, 0, 0.3));\n",
              "    fill: #FFFFFF;\n",
              "  }\n",
              "</style>\n",
              "\n",
              "    <script>\n",
              "      async function quickchart(key) {\n",
              "        const containerElement = document.querySelector('#' + key);\n",
              "        const charts = await google.colab.kernel.invokeFunction(\n",
              "            'suggestCharts', [key], {});\n",
              "      }\n",
              "    </script>\n",
              "\n",
              "      <script>\n",
              "\n",
              "function displayQuickchartButton(domScope) {\n",
              "  let quickchartButtonEl =\n",
              "    domScope.querySelector('#df-257d582e-63ac-4197-9620-aa8dc5732885 button.colab-df-quickchart');\n",
              "  quickchartButtonEl.style.display =\n",
              "    google.colab.kernel.accessAllowed ? 'block' : 'none';\n",
              "}\n",
              "\n",
              "        displayQuickchartButton(document);\n",
              "      </script>\n",
              "      <style>\n",
              "    .colab-df-container {\n",
              "      display:flex;\n",
              "      flex-wrap:wrap;\n",
              "      gap: 12px;\n",
              "    }\n",
              "\n",
              "    .colab-df-convert {\n",
              "      background-color: #E8F0FE;\n",
              "      border: none;\n",
              "      border-radius: 50%;\n",
              "      cursor: pointer;\n",
              "      display: none;\n",
              "      fill: #1967D2;\n",
              "      height: 32px;\n",
              "      padding: 0 0 0 0;\n",
              "      width: 32px;\n",
              "    }\n",
              "\n",
              "    .colab-df-convert:hover {\n",
              "      background-color: #E2EBFA;\n",
              "      box-shadow: 0px 1px 2px rgba(60, 64, 67, 0.3), 0px 1px 3px 1px rgba(60, 64, 67, 0.15);\n",
              "      fill: #174EA6;\n",
              "    }\n",
              "\n",
              "    [theme=dark] .colab-df-convert {\n",
              "      background-color: #3B4455;\n",
              "      fill: #D2E3FC;\n",
              "    }\n",
              "\n",
              "    [theme=dark] .colab-df-convert:hover {\n",
              "      background-color: #434B5C;\n",
              "      box-shadow: 0px 1px 3px 1px rgba(0, 0, 0, 0.15);\n",
              "      filter: drop-shadow(0px 1px 2px rgba(0, 0, 0, 0.3));\n",
              "      fill: #FFFFFF;\n",
              "    }\n",
              "  </style>\n",
              "\n",
              "      <script>\n",
              "        const buttonEl =\n",
              "          document.querySelector('#df-3e222bb9-76e9-42b7-9214-48fb7b1a2e92 button.colab-df-convert');\n",
              "        buttonEl.style.display =\n",
              "          google.colab.kernel.accessAllowed ? 'block' : 'none';\n",
              "\n",
              "        async function convertToInteractive(key) {\n",
              "          const element = document.querySelector('#df-3e222bb9-76e9-42b7-9214-48fb7b1a2e92');\n",
              "          const dataTable =\n",
              "            await google.colab.kernel.invokeFunction('convertToInteractive',\n",
              "                                                     [key], {});\n",
              "          if (!dataTable) return;\n",
              "\n",
              "          const docLinkHtml = 'Like what you see? Visit the ' +\n",
              "            '<a target=\"_blank\" href=https://colab.research.google.com/notebooks/data_table.ipynb>data table notebook</a>'\n",
              "            + ' to learn more about interactive tables.';\n",
              "          element.innerHTML = '';\n",
              "          dataTable['output_type'] = 'display_data';\n",
              "          await google.colab.output.renderOutput(dataTable, element);\n",
              "          const docLink = document.createElement('div');\n",
              "          docLink.innerHTML = docLinkHtml;\n",
              "          element.appendChild(docLink);\n",
              "        }\n",
              "      </script>\n",
              "    </div>\n",
              "  </div>\n"
            ]
          },
          "metadata": {},
          "execution_count": 214
        }
      ]
    },
    {
      "cell_type": "markdown",
      "source": [
        "##Модель cointegrated/rubert-base-cased-nli-twoway"
      ],
      "metadata": {
        "id": "DhAuuonnF6KO"
      }
    },
    {
      "cell_type": "code",
      "source": [
        "model_nli_twoway = Model_searh('cointegrated/rubert-base-cased-nli-twoway', typee='nli')"
      ],
      "metadata": {
        "id": "bxxb_A3cFS--"
      },
      "execution_count": null,
      "outputs": []
    },
    {
      "cell_type": "code",
      "source": [
        "model_nli_twoway.get_best('Привет', train_list)"
      ],
      "metadata": {
        "colab": {
          "base_uri": "https://localhost:8080/"
        },
        "id": "f7OxMyTTFb5n",
        "outputId": "34badf51-9fc0-4662-d3da-e99375e18228"
      },
      "execution_count": null,
      "outputs": [
        {
          "output_type": "execute_result",
          "data": {
            "text/plain": [
              "{'input_text': 'Привет',\n",
              " 'output_texts': array(['no_problem', 'no_problem', 'no_problem', ..., 'angry', 'angry',\n",
              "        'angry'], dtype='<U26'),\n",
              " 'output_distances': array([1.7927696e-05, 1.7927696e-05, 1.7927696e-05, ..., 2.3454791e-03,\n",
              "        2.3454791e-03, 2.3454791e-03], dtype=float32)}"
            ]
          },
          "metadata": {},
          "execution_count": 196
        }
      ]
    },
    {
      "cell_type": "markdown",
      "source": [
        "#Ставим оценочки (в разработке)"
      ],
      "metadata": {
        "id": "I4gJ8ayncDj5"
      }
    },
    {
      "cell_type": "markdown",
      "source": [
        "##quora"
      ],
      "metadata": {
        "id": "zDcYgyrxpFCM"
      }
    },
    {
      "cell_type": "code",
      "source": [
        "from sklearn import preprocessing\n",
        "\n",
        "mlb = preprocessing.MultiLabelBinarizer()"
      ],
      "metadata": {
        "id": "NUiukHLGFDPH"
      },
      "execution_count": null,
      "outputs": []
    },
    {
      "cell_type": "code",
      "source": [
        "df[['label']].value_counts().head(20)"
      ],
      "metadata": {
        "colab": {
          "base_uri": "https://localhost:8080/"
        },
        "id": "AbhPQRnUFLT0",
        "outputId": "ac501ff9-f4be-4ff8-a780-2e2aa60f49ae"
      },
      "execution_count": null,
      "outputs": [
        {
          "output_type": "execute_result",
          "data": {
            "text/plain": [
              "label             \n",
              "good                  124\n",
              "bad                    58\n",
              "beautiful              51\n",
              "how_are_you            43\n",
              "likes_agent            35\n",
              "thank_you              33\n",
              "can_you_help           32\n",
              "bye                    32\n",
              "clever                 30\n",
              "my_friend              28\n",
              "right                  24\n",
              "needs_advice           24\n",
              "busy                   23\n",
              "sorry                  22\n",
              "no                     21\n",
              "funny                  20\n",
              "answer_my_question     20\n",
              "affront                20\n",
              "hello                  19\n",
              "ha_ha                  19\n",
              "dtype: int64"
            ]
          },
          "metadata": {},
          "execution_count": 36
        }
      ]
    },
    {
      "cell_type": "code",
      "source": [
        "df['Target'] = list(mlb.fit_transform(df.label.apply(lambda x: [x])))"
      ],
      "metadata": {
        "id": "p6lEjy1yHFPe"
      },
      "execution_count": null,
      "outputs": []
    },
    {
      "cell_type": "code",
      "source": [
        "df.Target.head(5)"
      ],
      "metadata": {
        "colab": {
          "base_uri": "https://localhost:8080/"
        },
        "id": "Z0r5ZkgbHzdg",
        "outputId": "4fad70c9-25f3-46f1-b05e-33a15ed36c42"
      },
      "execution_count": null,
      "outputs": [
        {
          "output_type": "execute_result",
          "data": {
            "text/plain": [
              "0    [0, 0, 0, 0, 0, 0, 0, 0, 0, 0, 0, 0, 0, 0, 0, ...\n",
              "1    [0, 0, 0, 0, 0, 0, 0, 0, 0, 0, 0, 0, 0, 0, 0, ...\n",
              "2    [0, 0, 0, 0, 0, 0, 0, 0, 0, 0, 0, 0, 0, 0, 0, ...\n",
              "3    [0, 0, 0, 0, 0, 0, 0, 0, 0, 0, 0, 0, 0, 0, 0, ...\n",
              "4    [0, 0, 0, 0, 0, 0, 0, 0, 0, 0, 0, 0, 0, 0, 0, ...\n",
              "Name: Target, dtype: object"
            ]
          },
          "metadata": {},
          "execution_count": 49
        }
      ]
    },
    {
      "cell_type": "code",
      "source": [
        "from sklearn.model_selection import train_test_split\n",
        "import statistics\n",
        "\n",
        "X = df.text\n",
        "y = df.label\n",
        "\n",
        "\n",
        "X_train, X_test, y_train, y_test = train_test_split(X, y, test_size=0.3, random_state=42)"
      ],
      "metadata": {
        "id": "ModmXSEYKt0s"
      },
      "execution_count": null,
      "outputs": []
    },
    {
      "cell_type": "code",
      "source": [
        "models_quora_list = [model_aida, model_msmarce, model_quora_multilingual, model_tine]"
      ],
      "metadata": {
        "id": "DiTaLGIQV_T8"
      },
      "execution_count": null,
      "outputs": []
    },
    {
      "cell_type": "code",
      "source": [
        "%%time\n",
        "for value in np.arange(20, 21):\n",
        "    for i, model in enumerate(models_quora_list):\n",
        "        model.fit(X_train.to_list())\n",
        "        pred = np.array([statistics.mode(model.get_best(i, label_list, K=value)['output_texts']) for i in X_test]).reshape(-1)\n",
        "        print(f'model {i}: {sum(pred == y_test.to_numpy()) / len(pred)}')\n",
        "        print(f'TP/TN: {sum(pred == y_test.to_numpy())}, shape: {len(pred)}')"
      ],
      "metadata": {
        "id": "N66-n4GKWUjR"
      },
      "execution_count": null,
      "outputs": []
    },
    {
      "cell_type": "code",
      "source": [
        "model_quora_multilingual.fit(X_train.to_list())"
      ],
      "metadata": {
        "id": "SkUcZuUtL6Ju"
      },
      "execution_count": null,
      "outputs": []
    },
    {
      "cell_type": "code",
      "source": [
        "pred = np.array([statistics.mode(model_quora_multilingual.get_best(i, label_list, max_cos_value=0.2)['output_texts']) for i in X_test]).reshape(-1)"
      ],
      "metadata": {
        "id": "tbiMA48bMum_"
      },
      "execution_count": null,
      "outputs": []
    },
    {
      "cell_type": "code",
      "source": [
        "sum(pred == y_test.to_numpy()) / len(pred)"
      ],
      "metadata": {
        "colab": {
          "base_uri": "https://localhost:8080/"
        },
        "id": "RC8uw6WwOw4q",
        "outputId": "b7ed035c-6c22-4370-ef32-28b9b5310478"
      },
      "execution_count": null,
      "outputs": [
        {
          "output_type": "execute_result",
          "data": {
            "text/plain": [
              "0.02278481012658228"
            ]
          },
          "metadata": {},
          "execution_count": 113
        }
      ]
    },
    {
      "cell_type": "code",
      "source": [
        "temp = pd.DataFrame(columns=['equals'])\n",
        "\n",
        "temp['pred'] = np.array(pred).reshape(-1)\n",
        "temp['test'] = y_test.to_numpy()\n",
        "temp['equals'] = temp.pred == temp.test"
      ],
      "metadata": {
        "id": "bfWp0w1kQzW8"
      },
      "execution_count": null,
      "outputs": []
    },
    {
      "cell_type": "code",
      "source": [
        "temp['equals'].sum()"
      ],
      "metadata": {
        "colab": {
          "base_uri": "https://localhost:8080/"
        },
        "id": "jZJdxo_fRQAk",
        "outputId": "a8a30925-3dcb-42a8-98b5-316c3acd0446"
      },
      "execution_count": null,
      "outputs": [
        {
          "output_type": "execute_result",
          "data": {
            "text/plain": [
              "11"
            ]
          },
          "metadata": {},
          "execution_count": 112
        }
      ]
    },
    {
      "cell_type": "markdown",
      "source": [
        "##NLI"
      ],
      "metadata": {
        "id": "njZnGd_xpaSl"
      }
    },
    {
      "cell_type": "markdown",
      "source": [
        "###No train nli model"
      ],
      "metadata": {
        "id": "AhTgJ5-xuJfZ"
      }
    },
    {
      "cell_type": "code",
      "source": [
        "from transformers import pipeline\n",
        "p = pipeline(\n",
        "  task='zero-shot-classification',\n",
        "  model='cointegrated/rubert-base-cased-nli-twoway'\n",
        ")"
      ],
      "metadata": {
        "id": "f1p8hWbLpeYs"
      },
      "execution_count": null,
      "outputs": []
    },
    {
      "cell_type": "code",
      "source": [
        "noo_train = p(\n",
        "  sequences=\"Привет, как дела?\",\n",
        "  candidate_labels=','.join(train_list),\n",
        "  hypothesis_template=\"{}.\"\n",
        ")"
      ],
      "metadata": {
        "id": "q38EGePCshzH"
      },
      "execution_count": null,
      "outputs": []
    },
    {
      "cell_type": "code",
      "source": [
        "np.array(label_list)[np.argsort(np.array(noo_train['scores']))]"
      ],
      "metadata": {
        "colab": {
          "base_uri": "https://localhost:8080/"
        },
        "id": "ThcEVf-ctD2A",
        "outputId": "a8adcb94-3ffb-4f08-a593-b376de3f8089"
      },
      "execution_count": null,
      "outputs": [
        {
          "output_type": "execute_result",
          "data": {
            "text/plain": [
              "array(['talk_to_me', 'talk_to_me', 'talk_to_me', ..., 'good', 'good',\n",
              "       'good'], dtype='<U26')"
            ]
          },
          "metadata": {},
          "execution_count": 227
        }
      ]
    },
    {
      "cell_type": "markdown",
      "source": [
        "##With train nli model"
      ],
      "metadata": {
        "id": "e7EYmaasuPZU"
      }
    },
    {
      "cell_type": "code",
      "source": [
        "test = ['Привет, как дела?', 'Расскажи анекдот', 'Что ты умеешь? Анекдот', 'Спасибо за ответ!', 'Спасибо за ответ! Как дела?']"
      ],
      "metadata": {
        "id": "DB5cPahpuUQS"
      },
      "execution_count": null,
      "outputs": []
    },
    {
      "cell_type": "code",
      "source": [
        "for text in test:\n",
        "    print(model_nli_threeway.get_best(text, train_list, max_value=0.2))"
      ],
      "metadata": {
        "colab": {
          "base_uri": "https://localhost:8080/"
        },
        "id": "qqagTwpa76cM",
        "outputId": "41812276-9a8b-4d9d-ea15-22aa482cd9ac"
      },
      "execution_count": null,
      "outputs": [
        {
          "output_type": "stream",
          "name": "stdout",
          "text": [
            "{'input_text': 'Привет, как дела?', 'output_texts': array(['скажи', 'пожалуйста', 'отвечай на вопрос', ..., 'мне всё равно',\n",
            "       'ты абсолютно бесполезен', 'вообще всё равно'], dtype='<U47'), 'output_distances': array([9.2038931e-03, 8.4990300e-03, 8.4824236e-03, ..., 8.4861758e-06,\n",
            "       6.6617513e-06, 6.3733041e-06], dtype=float32)}\n",
            "{'input_text': 'Расскажи анекдот', 'output_texts': array(['расскажи анекдот', 'скажи', 'поговори', ..., 'вообще-то нет',\n",
            "       'ты мне совсем не помогаешь', 'ты абсолютно бесполезен'],\n",
            "      dtype='<U47'), 'output_distances': array([1.0960256e-02, 1.0184640e-02, 1.0076572e-02, ..., 4.5513693e-06,\n",
            "       3.6159095e-06, 3.4986758e-06], dtype=float32)}\n",
            "{'input_text': 'Что ты умеешь? Анекдот', 'output_texts': array(['что ты умеешь?', 'Что ты умеешь?', 'чем ты занимаешься', ...,\n",
            "       'я очень сонный', 'ты просто ужас', 'ты абсолютно бесполезен'],\n",
            "      dtype='<U47'), 'output_distances': array([7.5233830e-03, 7.5233830e-03, 7.2600706e-03, ..., 4.1539161e-06,\n",
            "       3.3227209e-06, 2.7859057e-06], dtype=float32)}\n",
            "{'input_text': 'Спасибо за ответ!', 'output_texts': array(['благодарю', 'приветствую', 'ценю это', ..., 'ты просто ужас',\n",
            "       'ты абсолютно бесполезен', 'ты просто ужасна'], dtype='<U47'), 'output_distances': array([5.5759735e-03, 5.5097747e-03, 5.4440172e-03, ..., 1.8249558e-06,\n",
            "       1.8126347e-06, 1.7400054e-06], dtype=float32)}\n",
            "{'input_text': 'Спасибо за ответ! Как дела?', 'output_texts': array(['благодарю', 'спасибо', 'ну спасибо', ..., 'ты просто ужасна',\n",
            "       'ты мне совсем не помогаешь', 'ты просто ужас'], dtype='<U47'), 'output_distances': array([5.0928406e-03, 4.9449541e-03, 4.9311244e-03, ..., 2.0181376e-06,\n",
            "       1.9883171e-06, 1.8597505e-06], dtype=float32)}\n"
          ]
        }
      ]
    }
  ]
}